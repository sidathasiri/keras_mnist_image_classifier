{
 "cells": [
  {
   "cell_type": "code",
   "execution_count": 10,
   "metadata": {},
   "outputs": [],
   "source": [
    "import tensorflow as tf\n",
    "from tensorflow.keras import datasets, layers, models\n",
    "import numpy as np"
   ]
  },
  {
   "cell_type": "code",
   "execution_count": 11,
   "metadata": {},
   "outputs": [],
   "source": [
    "mnist = datasets.mnist\n",
    "(train_images, train_labels), (test_images, test_labels) = mnist.load_data()"
   ]
  },
  {
   "cell_type": "code",
   "execution_count": 12,
   "metadata": {},
   "outputs": [],
   "source": [
    "noise_factor = 0.25\n",
    "train_images_noisy = train_images + noise_factor*np.random.normal(loc=0.0, scale=1.0, size=train_images.shape)\n",
    "test_images_noisy = test_images + noise_factor*np.random.normal(loc=0.0, scale=1.0, size=test_images.shape)\n",
    "train_images_noisy = np.clip(train_images_noisy, 0., 1.)\n",
    "test_images_noisy = np.clip(test_images_noisy, 0., 1.)"
   ]
  },
  {
   "cell_type": "code",
   "execution_count": 13,
   "metadata": {},
   "outputs": [],
   "source": [
    "train_images = train_images_noisy / 255.0\n",
    "test_images = test_images_noisy / 255.0"
   ]
  },
  {
   "cell_type": "code",
   "execution_count": 14,
   "metadata": {},
   "outputs": [],
   "source": [
    "train_images = train_images.reshape(60000,28,28,1)\n",
    "test_images = test_images.reshape(10000,28,28,1)"
   ]
  },
  {
   "cell_type": "code",
   "execution_count": 15,
   "metadata": {},
   "outputs": [],
   "source": [
    "model = models.Sequential()\n",
    "model.add(layers.Conv2D(32, (3, 3), activation='relu', input_shape=(28,28, 1)))\n",
    "model.add(layers.MaxPooling2D((2, 2)))\n",
    "model.add(layers.Conv2D(64, (3, 3), activation='relu', input_shape=(28,28, 1)))\n",
    "model.add(layers.MaxPooling2D((2, 2)))\n",
    "model.add(layers.Flatten())\n",
    "model.add(layers.Dense(10))"
   ]
  },
  {
   "cell_type": "code",
   "execution_count": 16,
   "metadata": {},
   "outputs": [],
   "source": [
    "model.compile(optimizer='adam',\n",
    "              loss=tf.keras.losses.SparseCategoricalCrossentropy(from_logits=True),\n",
    "              metrics=['accuracy'])"
   ]
  },
  {
   "cell_type": "code",
   "execution_count": 17,
   "metadata": {},
   "outputs": [
    {
     "name": "stdout",
     "output_type": "stream",
     "text": [
      "Epoch 1/10\n",
      "60000/60000 [==============================] - 18s 297us/sample - loss: 0.7956 - acc: 0.7523\n",
      "Epoch 2/10\n",
      "60000/60000 [==============================] - 17s 288us/sample - loss: 0.3212 - acc: 0.9028\n",
      "Epoch 3/10\n",
      "60000/60000 [==============================] - 18s 301us/sample - loss: 0.2411 - acc: 0.9269\n",
      "Epoch 4/10\n",
      "60000/60000 [==============================] - 18s 300us/sample - loss: 0.1915 - acc: 0.9420\n",
      "Epoch 5/10\n",
      "60000/60000 [==============================] - 19s 310us/sample - loss: 0.1596 - acc: 0.9517\n",
      "Epoch 6/10\n",
      "60000/60000 [==============================] - 18s 297us/sample - loss: 0.1402 - acc: 0.9573\n",
      "Epoch 7/10\n",
      "60000/60000 [==============================] - 18s 293us/sample - loss: 0.1265 - acc: 0.9609\n",
      "Epoch 8/10\n",
      "60000/60000 [==============================] - 17s 290us/sample - loss: 0.1173 - acc: 0.9632\n",
      "Epoch 9/10\n",
      "60000/60000 [==============================] - 18s 295us/sample - loss: 0.1088 - acc: 0.9664\n",
      "Epoch 10/10\n",
      "60000/60000 [==============================] - 18s 301us/sample - loss: 0.1031 - acc: 0.9674\n"
     ]
    },
    {
     "data": {
      "text/plain": [
       "<tensorflow.python.keras.callbacks.History at 0x7f01d57f1668>"
      ]
     },
     "execution_count": 17,
     "metadata": {},
     "output_type": "execute_result"
    }
   ],
   "source": [
    "model.fit(train_images, train_labels, epochs=10)"
   ]
  },
  {
   "cell_type": "code",
   "execution_count": 9,
   "metadata": {},
   "outputs": [
    {
     "name": "stdout",
     "output_type": "stream",
     "text": [
      "10000/10000 [==============================] - 1s 95us/sample - loss: 0.1091 - acc: 0.9667\n",
      "\n",
      "Test accuracy: 0.9667\n"
     ]
    }
   ],
   "source": [
    "test_loss, test_acc = model.evaluate(test_images,  test_labels, verbose=1)\n",
    "\n",
    "print('\\nTest accuracy:', test_acc)"
   ]
  },
  {
   "cell_type": "code",
   "execution_count": null,
   "metadata": {},
   "outputs": [],
   "source": []
  }
 ],
 "metadata": {
  "kernelspec": {
   "display_name": "Python 3",
   "language": "python",
   "name": "python3"
  },
  "language_info": {
   "codemirror_mode": {
    "name": "ipython",
    "version": 3
   },
   "file_extension": ".py",
   "mimetype": "text/x-python",
   "name": "python",
   "nbconvert_exporter": "python",
   "pygments_lexer": "ipython3",
   "version": "3.6.9"
  }
 },
 "nbformat": 4,
 "nbformat_minor": 4
}
